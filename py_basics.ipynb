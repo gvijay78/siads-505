{
  "nbformat": 4,
  "nbformat_minor": 0,
  "metadata": {
    "colab": {
      "name": "py_basics.ipynb",
      "version": "0.3.2",
      "provenance": [],
      "include_colab_link": true
    },
    "kernelspec": {
      "name": "python3",
      "display_name": "Python 3"
    }
  },
  "cells": [
    {
      "cell_type": "markdown",
      "metadata": {
        "id": "view-in-github",
        "colab_type": "text"
      },
      "source": [
        "<a href=\"https://colab.research.google.com/github/gvijay78/siads-505/blob/master/py_basics.ipynb\" target=\"_parent\"><img src=\"https://colab.research.google.com/assets/colab-badge.svg\" alt=\"Open In Colab\"/></a>"
      ]
    },
    {
      "cell_type": "markdown",
      "metadata": {
        "id": "fw-C7F6pKhes",
        "colab_type": "text"
      },
      "source": [
        "# Introduction to python magic"
      ]
    },
    {
      "cell_type": "code",
      "metadata": {
        "id": "KAG_PRa_LUSe",
        "colab_type": "code",
        "colab": {}
      },
      "source": [
        "# Few of python hidden gems\n",
        "# Import few common packages\n",
        "import numpy as np\n",
        "import pandas as pd\n",
        "from pandas import Series, DataFrame\n",
        "from collections import defaultdict"
      ],
      "execution_count": 0,
      "outputs": []
    },
    {
      "cell_type": "code",
      "metadata": {
        "id": "o0hMH3EBL0tD",
        "colab_type": "code",
        "colab": {
          "base_uri": "https://localhost:8080/",
          "height": 67
        },
        "outputId": "fe1e9c81-07d1-4748-dde0-e7d5c3aac746"
      },
      "source": [
        "# Let see Zip function. It is very powerful function to zip up any two sequences, like list or tuples into a list, tuple, or dict\n",
        "# you do not need to convert it to list, tuple, or dict when used in iterator like for loop\n",
        "lst1 = [1,2,3,4]\n",
        "names = ('Gaurav', 'Veena', 'Arth', 'Arya')\n",
        "print(dict(zip(lst1, names))) # If casting it to dict then it takes first argument as key and second one as value. \n",
        "# Since a dict is essentially a collection of 2-tuples, the dict function accepts a list of 2-tuples:\n",
        "print(list(zip(lst1, names))) # It creates a list of 2 tuples\n",
        "print(tuple(zip(lst1, names))) # tuple of 2 tuples"
      ],
      "execution_count": 37,
      "outputs": [
        {
          "output_type": "stream",
          "text": [
            "{1: 'Gaurav', 2: 'Veena', 3: 'Arth', 4: 'Arya'}\n",
            "[(1, 'Gaurav'), (2, 'Veena'), (3, 'Arth'), (4, 'Arya')]\n",
            "((1, 'Gaurav'), (2, 'Veena'), (3, 'Arth'), (4, 'Arya'))\n"
          ],
          "name": "stdout"
        }
      ]
    },
    {
      "cell_type": "code",
      "metadata": {
        "id": "cTYfS3A8M8BH",
        "colab_type": "code",
        "colab": {
          "base_uri": "https://localhost:8080/",
          "height": 34
        },
        "outputId": "4e1f51c7-5fd3-44be-fe63-76f8407bf5b0"
      },
      "source": [
        "# Python 3 got an interesting operator when used with any sequence.\n",
        "# * operator is used when unpacking a sequence to store rest of elements in that sequence\n",
        "me, *_ = names\n",
        "me"
      ],
      "execution_count": 33,
      "outputs": [
        {
          "output_type": "execute_result",
          "data": {
            "text/plain": [
              "'Gaurav'"
            ]
          },
          "metadata": {
            "tags": []
          },
          "execution_count": 33
        }
      ]
    },
    {
      "cell_type": "code",
      "metadata": {
        "id": "GXZirs6nP1Hg",
        "colab_type": "code",
        "colab": {
          "base_uri": "https://localhost:8080/",
          "height": 34
        },
        "outputId": "9e7c2179-c951-410c-df93-69700a4ceb37"
      },
      "source": [
        "# you convert back to seperate tuples using cleaver use of zipm and * operator\n",
        "zipped_lst = list(zip(lst1, names))\n",
        "nbr, names_ = zip(*zipped_lst)\n",
        "nbr"
      ],
      "execution_count": 50,
      "outputs": [
        {
          "output_type": "execute_result",
          "data": {
            "text/plain": [
              "(1, 2, 3, 4)"
            ]
          },
          "metadata": {
            "tags": []
          },
          "execution_count": 50
        }
      ]
    },
    {
      "cell_type": "code",
      "metadata": {
        "id": "0BiXKpBOTDAu",
        "colab_type": "code",
        "colab": {
          "base_uri": "https://localhost:8080/",
          "height": 101
        },
        "outputId": "c17b5e36-5ea5-4e45-cbbd-8c630db2d9de"
      },
      "source": [
        "# Python has a neat way to use indexing operator using step count start_idx(included):end_idx(exlued):steps\n",
        "pd.Series(names)[::1]"
      ],
      "execution_count": 66,
      "outputs": [
        {
          "output_type": "execute_result",
          "data": {
            "text/plain": [
              "0    Gaurav\n",
              "1     Veena\n",
              "2      Arth\n",
              "3      Arya\n",
              "dtype: object"
            ]
          },
          "metadata": {
            "tags": []
          },
          "execution_count": 66
        }
      ]
    },
    {
      "cell_type": "code",
      "metadata": {
        "id": "OlIBGKerYmVj",
        "colab_type": "code",
        "colab": {
          "base_uri": "https://localhost:8080/",
          "height": 101
        },
        "outputId": "fe90ccd5-9db6-4e67-e9f5-ec01c3161284"
      },
      "source": [
        "# Another neat trick is to traverse the sequence in reverse order using -1 step\n",
        "print(pd.Series(names)[::-1])"
      ],
      "execution_count": 70,
      "outputs": [
        {
          "output_type": "stream",
          "text": [
            "3      Arya\n",
            "2      Arth\n",
            "1     Veena\n",
            "0    Gaurav\n",
            "dtype: object\n"
          ],
          "name": "stdout"
        }
      ]
    },
    {
      "cell_type": "code",
      "metadata": {
        "id": "5hrgi4dVZJm0",
        "colab_type": "code",
        "colab": {
          "base_uri": "https://localhost:8080/",
          "height": 101
        },
        "outputId": "9c706e29-2f81-41f0-eda7-d8bb69014a79"
      },
      "source": [
        "# Note that above is very different than reversed fucntion. which actually reverse the order of Series\n",
        "pd.Series(reversed(pd.Series(lst1)))"
      ],
      "execution_count": 72,
      "outputs": [
        {
          "output_type": "execute_result",
          "data": {
            "text/plain": [
              "0    4\n",
              "1    3\n",
              "2    2\n",
              "3    1\n",
              "dtype: int64"
            ]
          },
          "metadata": {
            "tags": []
          },
          "execution_count": 72
        }
      ]
    },
    {
      "cell_type": "code",
      "metadata": {
        "id": "-5ztQog-ZgJh",
        "colab_type": "code",
        "colab": {
          "base_uri": "https://localhost:8080/",
          "height": 50
        },
        "outputId": "72cfa037-7c4d-44b5-8c87-db60c85d773c"
      },
      "source": [
        "# dict has two important functions get to get a key value, returns the default valule if key does not exists without an exception\n",
        "d = dict(zip(lst1, names))\n",
        "if 5 not in d: # this will return false\n",
        "  # return a default value\n",
        "  print('Vijaywargia')\n",
        "# instead we can use get method\n",
        "print(d.get(5, 'Vijaywargia'))"
      ],
      "execution_count": 81,
      "outputs": [
        {
          "output_type": "stream",
          "text": [
            "Vijaywargia\n",
            "Vijaywargia\n"
          ],
          "name": "stdout"
        }
      ]
    },
    {
      "cell_type": "code",
      "metadata": {
        "id": "DtBE9TRHfl7e",
        "colab_type": "code",
        "colab": {
          "base_uri": "https://localhost:8080/",
          "height": 50
        },
        "outputId": "0b27d215-01fb-4078-dddc-41a4815e49db"
      },
      "source": [
        "# Another useful feature is partial functions\n",
        "from functools import partial\n",
        "\n",
        "def greeting(name, am_pm):\n",
        "  print(\"Good %s! %s\" % (\"Morning\" if am_pm == 1 else \"Evening\", name))\n",
        "\n",
        "greeting('Gaurav', 1)\n",
        "\n",
        "# Let say we want to create the named fucntion for evening greeting\n",
        "\n",
        "evening_greeting = partial(greeting, am_pm = 2)\n",
        "evening_greeting('Veena')"
      ],
      "execution_count": 86,
      "outputs": [
        {
          "output_type": "stream",
          "text": [
            "Good Morning! Gaurav\n",
            "Good Evening! Veena\n"
          ],
          "name": "stdout"
        }
      ]
    },
    {
      "cell_type": "code",
      "metadata": {
        "id": "XNEluK20jTVS",
        "colab_type": "code",
        "colab": {
          "base_uri": "https://localhost:8080/",
          "height": 50
        },
        "outputId": "a78812da-06ab-48f4-8b3a-e5a806661f79"
      },
      "source": [
        "# There is no tuple comprehension like list, dict and set comprehension. Instead syntax of tuple comprehension is reserved for creating a generator \n",
        "# consider this\n",
        "even_squares = (x **2 for x in range(1,11) if x % 2 == 0) # should return the square of even numbers\n",
        "print(even_squares)\n",
        "sum(even_squares) # this will iterate over the generator\n",
        "# even_squares() # this result in an error"
      ],
      "execution_count": 91,
      "outputs": [
        {
          "output_type": "stream",
          "text": [
            "<generator object <genexpr> at 0x7f8d1c7b3b48>\n"
          ],
          "name": "stdout"
        },
        {
          "output_type": "execute_result",
          "data": {
            "text/plain": [
              "220"
            ]
          },
          "metadata": {
            "tags": []
          },
          "execution_count": 91
        }
      ]
    },
    {
      "cell_type": "code",
      "metadata": {
        "id": "mnAW0ikel2VU",
        "colab_type": "code",
        "colab": {
          "base_uri": "https://localhost:8080/",
          "height": 84
        },
        "outputId": "eda5cd14-ae85-4c4e-e730-d30a1108f915"
      },
      "source": [
        "# Lets have some fun and create a stem and leaf plot\n",
        "import math\n",
        "import itertools\n",
        "\n",
        "nbrs = [10, 11,14,16,20,21,33,22,37,49,42,45,20,12]\n",
        "nbrs.sort()\n",
        "\n",
        "round_10 = lambda x: math.floor(x/10) * 10\n",
        "\n",
        "{base : list(numbers) for base, numbers in itertools.groupby(nbrs, round_10) }"
      ],
      "execution_count": 109,
      "outputs": [
        {
          "output_type": "execute_result",
          "data": {
            "text/plain": [
              "{10: [10, 11, 12, 14, 16],\n",
              " 20: [20, 20, 21, 22],\n",
              " 30: [33, 37],\n",
              " 40: [42, 45, 49]}"
            ]
          },
          "metadata": {
            "tags": []
          },
          "execution_count": 109
        }
      ]
    },
    {
      "cell_type": "code",
      "metadata": {
        "id": "a3yL074EoJKb",
        "colab_type": "code",
        "colab": {}
      },
      "source": [
        "# Lets try this with a text\n",
        "import itertools\n",
        "import string\n",
        "\n",
        "text = \"I'm thinking about the Week 2 Personal Project Idea assignment and I'm wondering how focused it needs to be on the tools we are learning in this program. For instance, an idea I have been thinking about is using a Microsoft Excel macro to make a tool that lets my lab members quickly organize any of their raw data into a standard configuration in Excel. Would that be an appropriate project idea or should I try to find something more related to Python?\"\n",
        "text = text.translate(str.maketrans('', '', string.punctuation))\n",
        "\n",
        "by_first_letter = lambda x: str.upper(x[0])\n",
        "by_len = lambda x: len(x)\n",
        "by_case = lambda x: \"UPPER\" if x[0] in string.ascii_uppercase else \"lower\"\n",
        "\n",
        "new_text = sorted(text.split(), key = by_first_letter )\n",
        "\n",
        "\n",
        "{first_letter: list(words) for first_letter, words in itertools.groupby(new_text, by_first_letter)}\n"
      ],
      "execution_count": 0,
      "outputs": []
    },
    {
      "cell_type": "code",
      "metadata": {
        "id": "Kf2C-NAfti4b",
        "colab_type": "code",
        "colab": {}
      },
      "source": [
        "\n",
        "  "
      ],
      "execution_count": 0,
      "outputs": []
    },
    {
      "cell_type": "code",
      "metadata": {
        "id": "9x0Ay-vP0Lsj",
        "colab_type": "code",
        "colab": {}
      },
      "source": [
        ""
      ],
      "execution_count": 0,
      "outputs": []
    }
  ]
}